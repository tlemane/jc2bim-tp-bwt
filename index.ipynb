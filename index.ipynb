{
 "cells": [
  {
   "cell_type": "markdown",
   "metadata": {},
   "source": [
    "# JC2BIM 2021: TP Burrows-Wheeler Transform\n",
    ">Téo Lemane, Claire Lemaitre"
   ]
  },
  {
   "cell_type": "code",
   "execution_count": 2,
   "metadata": {
    "collapsed": true
   },
   "outputs": [],
   "source": [
    "from typing import List, Dict, Tuple, Callable\n",
    "from utils import (\n",
    "    print_table,    # Pretty-printing. Usage: print_table(text, suffix_array, bwt, rank)\n",
    "    naive_matching, # Naive pattern matching, for comparison. Usage: naive_matching(pattern, text)\n",
    "    timeit          # Function timer. Usage: timeit(func, *args)\n",
    ")"
   ]
  },
  {
   "cell_type": "markdown",
   "metadata": {},
   "source": [
    "## 1. Construction\n",
    "\n",
    "### 1.1 Suffix Array\n",
    "\n",
    "**Q1)** Write a function `suffix_array(seq, term)` which returns the suffix array of `seq`. \n",
    "\n",
    "`term` is the character symbol indicating the end of the sequence, do not forget to add it at the end of your sequence, this is crucial for the BWT. \n",
    "\n",
    "(Hints: [sorted](https://docs.python.org/3/howto/sorting.html#sorting-basics), [key](https://docs.python.org/3/howto/sorting.html#key-functions), [lambda](https://docs.python.org/3.10/reference/expressions.html?#lambda))"
   ]
  },
  {
   "cell_type": "code",
   "execution_count": 3,
   "metadata": {
    "collapsed": true
   },
   "outputs": [],
   "source": [
    "sa_t = List[int] # suffix array is list of integers\n",
    "\n",
    "def suffix_array(seq: str, term: str=\"$\") -> sa_t:\n",
    "    if seq[-1] != term:\n",
    "        seq += term\n",
    "    # init sa with all suffix positions\n",
    "    sa = [x for x in range(len(seq))]\n",
    "    # sorting sa according to lexicographical order of the suffixes\n",
    "    sorted_sa = sorted(sa, key=lambda i: seq[i:])\n",
    "    return(sorted_sa)"
   ]
  },
  {
   "cell_type": "code",
   "execution_count": 4,
   "metadata": {},
   "outputs": [
    {
     "name": "stdout",
     "output_type": "stream",
     "text": [
      "ACGACTACAGACAT\n",
      "[14, 6, 10, 0, 3, 8, 12, 7, 11, 1, 4, 9, 2, 13, 5]\n",
      "i   SA[i]  S[SA[i]:]        F  L  Rank  \n",
      "0   14     $                $           \n",
      "1   6      ACAGACAT$        A           \n",
      "2   10     ACAT$            A           \n",
      "3   0      ACGACTACAGACAT$  A           \n",
      "4   3      ACTACAGACAT$     A           \n",
      "5   8      AGACAT$          A           \n",
      "6   12     AT$              A           \n",
      "7   7      CAGACAT$         C           \n",
      "8   11     CAT$             C           \n",
      "9   1      CGACTACAGACAT$   C           \n",
      "10  4      CTACAGACAT$      C           \n",
      "11  9      GACAT$           G           \n",
      "12  2      GACTACAGACAT$    G           \n",
      "13  13     T$               T           \n",
      "14  5      TACAGACAT$       T           \n"
     ]
    }
   ],
   "source": [
    "from data import (\n",
    "    seq_test, # test sequence\n",
    "    sa_test   # expected suffix array\n",
    ")\n",
    "print(seq_test)\n",
    "sa = suffix_array(seq_test)\n",
    "print(sa)\n",
    "print_table(seq_test+\"$\", sa_test, None, None)"
   ]
  },
  {
   "cell_type": "markdown",
   "metadata": {},
   "source": [
    "### 1.2 BWT\n",
    "\n",
    "Reminder :\n",
    "\n",
    "$BWT_S[i] = \\left\\{ \n",
    "    \\begin{array}{rll}\n",
    "         S[SA[i]-1] & \\mbox{if}\n",
    "         & SA[i]>0 \\\\ '\\$'  & \\mbox{if} & SA[i]=0\n",
    "    \\end{array}\\right.$\n",
    "\n",
    "**Q2)** Write a function `bwt(seq, sa)` which returns the bwt of `seq`."
   ]
  },
  {
   "cell_type": "code",
   "execution_count": 5,
   "metadata": {
    "collapsed": true
   },
   "outputs": [],
   "source": [
    "bwt_t = List[str] # bwt is a list of characters\n",
    "\n",
    "def bwt(seq: str, sa: sa_t) -> bwt_t:\n",
    "    bwt = []\n",
    "    for i in range(len(sa)):\n",
    "        pos = sa[i]\n",
    "        if pos == 0:\n",
    "            bwt.append(\"$\")\n",
    "        else:\n",
    "            bwt.append(seq[pos-1])\n",
    "    return(bwt)\n",
    "def bwt2(seq: str, sa: sa_t) -> bwt_t:\n",
    "    return [seq[i - 1] if i > 0 else \"$\" for i in sa]"
   ]
  },
  {
   "cell_type": "code",
   "execution_count": 6,
   "metadata": {},
   "outputs": [
    {
     "name": "stdout",
     "output_type": "stream",
     "text": [
      "['T', 'T', 'G', '$', 'G', 'C', 'C', 'A', 'A', 'A', 'A', 'A', 'C', 'A', 'C']\n",
      "['T', 'T', 'G', '$', 'G', 'C', 'C', 'A', 'A', 'A', 'A', 'A', 'C', 'A', 'C']\n",
      "i   SA[i]  S[SA[i]:]        F  L  Rank  \n",
      "0   14     $                $  T        \n",
      "1   6      ACAGACAT$        A  T        \n",
      "2   10     ACAT$            A  G        \n",
      "3   0      ACGACTACAGACAT$  A  $        \n",
      "4   3      ACTACAGACAT$     A  G        \n",
      "5   8      AGACAT$          A  C        \n",
      "6   12     AT$              A  C        \n",
      "7   7      CAGACAT$         C  A        \n",
      "8   11     CAT$             C  A        \n",
      "9   1      CGACTACAGACAT$   C  A        \n",
      "10  4      CTACAGACAT$      C  A        \n",
      "11  9      GACAT$           G  A        \n",
      "12  2      GACTACAGACAT$    G  C        \n",
      "13  13     T$               T  A        \n",
      "14  5      TACAGACAT$       T  C        \n"
     ]
    }
   ],
   "source": [
    "print(bwt(seq_test,sa))\n",
    "print(bwt2(seq_test,sa))\n",
    "from data import bwt_test # expected bwt of seq_test\n",
    "print_table(seq_test+\"$\", sa_test, bwt_test, None)"
   ]
  },
  {
   "cell_type": "markdown",
   "metadata": {},
   "source": [
    "### 1.3 FM-index : BWT + 2 tables (rank and occ) and LF mapping function\n",
    "\n",
    "**Q3)** Write a function `rank_occ(bwt, lexi)` which returns the rank array and the occurence table.\n",
    "\n",
    "**Example:**  \n",
    "BWT = $T_0T_1G_0\\$_0G_1C_0C_1A_0A_1A_2A_3A_4C_2A_5C_3$  \n",
    "rank = [0, 1, 0, 0, 1, 0, 1, 0, 1, 2, 3, 4, 2, 5, 3]  \n",
    "occ = {'$': 1, 'A': 6, 'C': 4, 'G': 2, 'T': 2}"
   ]
  },
  {
   "cell_type": "code",
   "execution_count": 7,
   "metadata": {
    "collapsed": true
   },
   "outputs": [],
   "source": [
    "rank_t = List[int]     # rank is a list of integers \n",
    "occ_t = Dict[str, int] # occ is a dictionary\n",
    "\n",
    "def rank_occ(bwt: bwt_t, lexi: str=\"$ACGT\") -> Tuple[rank_t, occ_t]:\n",
    "    occ = {c: 0 for c in lexi}\n",
    "    rank = [0] * len(bwt)\n",
    "    for i in range(len(bwt)):\n",
    "        c = bwt[i]\n",
    "        rank[i] = occ[c]\n",
    "        occ[c] +=1\n",
    "    return rank, occ"
   ]
  },
  {
   "cell_type": "code",
   "execution_count": 8,
   "metadata": {},
   "outputs": [
    {
     "name": "stdout",
     "output_type": "stream",
     "text": [
      "([0, 1, 0, 0, 1, 0, 1, 0, 1, 2, 3, 4, 2, 5, 3], {'$': 1, 'A': 6, 'C': 4, 'G': 2, 'T': 2})\n",
      "i   SA[i]  S[SA[i]:]        F  L  Rank  \n",
      "0   14     $                $  T  0     \n",
      "1   6      ACAGACAT$        A  T  1     \n",
      "2   10     ACAT$            A  G  0     \n",
      "3   0      ACGACTACAGACAT$  A  $  0     \n",
      "4   3      ACTACAGACAT$     A  G  1     \n",
      "5   8      AGACAT$          A  C  0     \n",
      "6   12     AT$              A  C  1     \n",
      "7   7      CAGACAT$         C  A  0     \n",
      "8   11     CAT$             C  A  1     \n",
      "9   1      CGACTACAGACAT$   C  A  2     \n",
      "10  4      CTACAGACAT$      C  A  3     \n",
      "11  9      GACAT$           G  A  4     \n",
      "12  2      GACTACAGACAT$    G  C  2     \n",
      "13  13     T$               T  A  5     \n",
      "14  5      TACAGACAT$       T  C  3     \n"
     ]
    }
   ],
   "source": [
    "print(rank_occ(bwt_test))\n",
    "from data import (\n",
    "    rank_test, # expected rank of bwt_test\n",
    "    occ_test   # expected occ of bwt_test\n",
    ")\n",
    "print_table(seq_test+\"$\", sa_test, bwt_test, rank_test)"
   ]
  },
  {
   "cell_type": "markdown",
   "metadata": {},
   "source": [
    "**Q4)** Write a function `LF(c, i, occ, lexi)` which returns the position of $c_i$ in $F$. $c_i$ is the (i+1)-th character of type $c$ in $L$ (BWT).\n",
    "\n",
    "*In the example above, to apply LF on $G_1$ at position 4 in BWT : c = 'G' and i = 1. (this is the second 'G' of BWT)* "
   ]
  },
  {
   "cell_type": "code",
   "execution_count": 9,
   "metadata": {},
   "outputs": [
    {
     "data": {
      "text/plain": [
       "11"
      ]
     },
     "execution_count": 9,
     "metadata": {},
     "output_type": "execute_result"
    }
   ],
   "source": [
    "def LF(c: str, i: int, occ: occ_t, lexi: str=\"$ACGT\") -> int:\n",
    "    res = 0\n",
    "    for nt in lexi:\n",
    "        if c>nt:\n",
    "            res += occ[nt]\n",
    "        else:\n",
    "            return res + i\n",
    "\n",
    "LF(\"G\",0,occ_test)"
   ]
  },
  {
   "cell_type": "markdown",
   "metadata": {},
   "source": [
    "**Q5)** Using the LF-mapping property, write a function `reverse(bwt, rank, occ)` which returns the original sequence from its BWT."
   ]
  },
  {
   "cell_type": "code",
   "execution_count": 10,
   "metadata": {},
   "outputs": [
    {
     "name": "stdout",
     "output_type": "stream",
     "text": [
      "ACGACTACAGACAT\n"
     ]
    },
    {
     "data": {
      "text/plain": [
       "'ACGACTACAGACAT'"
      ]
     },
     "execution_count": 10,
     "metadata": {},
     "output_type": "execute_result"
    }
   ],
   "source": [
    "def reverse(bwt: bwt_t, rank: rank_t, occ: occ_t) -> str:\n",
    "    seq = \"\"\n",
    "    i = 0\n",
    "    while bwt[i] != '$':\n",
    "        c = bwt[i]\n",
    "        seq +=c\n",
    "        i = LF(c,rank[i],occ)\n",
    "    return(seq[::-1])\n",
    "print(seq_test)\n",
    "reverse(bwt_test,rank_test,occ_test)"
   ]
  },
  {
   "cell_type": "markdown",
   "metadata": {},
   "source": [
    "## 2. Pattern matching with the FM-index\n",
    "\n",
    "Reminder: to determine if a given word is present in a text indexed with the FM-index, we start from the last character of the word and we use a similar approach as in the function `reverse` but instead of \"tracing\" one position of the text, we have to trace several positions simultaneously, they are all grouped in an interval. \n",
    "\n",
    "Thus, we will loop over the characters of the word, from end to beginning, and update at each step the two indices that delimit the interval on the BWT. At the end (or during the iterations if the interval is empty), the size of the interval gives the number of occurrences of the pattern in the text.\n",
    "\n",
    "### 2.1 Useful functions\n",
    "**Q6.1)** Write a function `find_first(c, i, j, bwt)` which returns the position of the first character `c` in $BWT[i,j]$.  \n",
    "**Q6.2)** Write a function `find_last(c, j, i, bwt)` which returns the position of the last character `c` in $BWT[i,j]$."
   ]
  },
  {
   "cell_type": "code",
   "execution_count": 11,
   "metadata": {
    "collapsed": true
   },
   "outputs": [],
   "source": [
    "def find_first(c: str, i: int, j: int, bwt: bwt_t) -> int:\n",
    "    pass\n",
    "\n",
    "def find_last(c: str, j: int, i: int, bwt: bwt_t) -> int:\n",
    "    pass"
   ]
  },
  {
   "cell_type": "markdown",
   "metadata": {},
   "source": [
    "### 2.2 Pattern matching function\n",
    "**Q7)** Write a function `backward_search(pattern, bwt, rank, occ)` which returns `True` if `pattern` is found, `False` otherwise."
   ]
  },
  {
   "cell_type": "code",
   "execution_count": 12,
   "metadata": {
    "collapsed": true
   },
   "outputs": [],
   "source": [
    "def backward_search(pattern: str, bwt: bwt_t, rank: rank_t, occ: occ_t) -> bool:\n",
    "    pass"
   ]
  },
  {
   "cell_type": "markdown",
   "metadata": {},
   "source": [
    "## 3. Application to real data\n"
   ]
  },
  {
   "cell_type": "code",
   "execution_count": 14,
   "metadata": {
    "collapsed": true
   },
   "outputs": [],
   "source": [
    "from data import seq, seq_queries"
   ]
  },
  {
   "cell_type": "markdown",
   "metadata": {},
   "source": [
    "`seq` is a real DNA sequence of size 29,903 bp (the sars-cov-2 genome).\n",
    "\n",
    "`seq_queries` is a list of 11 20-mers.\n",
    "\n",
    "We want to determine which ones of these 20-mers appear in the sars-cov-2 genome.\n",
    "\n",
    "**Q8)** Apply your indexing data structure and the pattern matching function to query all the kmers of `seq_queries` in the sequence `seq`."
   ]
  },
  {
   "cell_type": "code",
   "execution_count": 16,
   "metadata": {},
   "outputs": [
    {
     "data": {
      "text/plain": [
       "True"
      ]
     },
     "execution_count": 16,
     "metadata": {},
     "output_type": "execute_result"
    }
   ],
   "source": [
    "_sa = suffix_array(seq)\n",
    "_bwt = bwt(seq, _sa)\n",
    "_rank, _occ = rank_occ(_bwt)\n",
    "# quick test\n",
    "_reverse_bwt = reverse(_bwt,_rank,_occ)\n",
    "seq == _reverse_bwt"
   ]
  },
  {
   "cell_type": "code",
   "execution_count": 17,
   "metadata": {},
   "outputs": [
    {
     "name": "stdout",
     "output_type": "stream",
     "text": [
      "pattern CAAAACATTCCCACCAACAG found in seq ? True\n",
      "pattern TCGGGCACGTAGTGTAGCTA found in seq ? False\n",
      "pattern GGCTCAATGTGTCCAGTTAC found in seq ? True\n",
      "pattern GGGAAATTGTTAAATTTATC found in seq ? True\n",
      "pattern AAAACAAGATGATAAGAAAA found in seq ? True\n",
      "pattern TTTAGCTTAGTTGCAGAGTG found in seq ? False\n",
      "pattern TCTTAGCCTACTGTAATAAG found in seq ? True\n",
      "pattern TTTGAACTTGATGAAAGGAT found in seq ? True\n",
      "pattern CCAGGTAACAAACCAACCAA found in seq ? True\n",
      "pattern TGCAGGAATCTTTTGTTGCA found in seq ? False\n",
      "pattern AAGACATGTACGTGCATGGA found in seq ? True\n"
     ]
    }
   ],
   "source": [
    "# pattern matching :\n",
    "for pat in seq_queries:\n",
    "    print(f\"pattern {pat} found in seq ? {backward_search(pat,_bwt,_rank,_occ)}\")"
   ]
  },
  {
   "cell_type": "markdown",
   "metadata": {},
   "source": [
    "**Q9)** Perform the same queries using the function `naive_matching(pattern, text)`, and compare the results and running times."
   ]
  },
  {
   "cell_type": "code",
   "execution_count": 19,
   "metadata": {},
   "outputs": [
    {
     "name": "stdout",
     "output_type": "stream",
     "text": [
      "pattern CAAAACATTCCCACCAACAG found in seq ? bwt = True naive = True\n",
      "pattern TCGGGCACGTAGTGTAGCTA found in seq ? bwt = False naive = False\n",
      "pattern GGCTCAATGTGTCCAGTTAC found in seq ? bwt = True naive = True\n",
      "pattern GGGAAATTGTTAAATTTATC found in seq ? bwt = True naive = True\n",
      "pattern AAAACAAGATGATAAGAAAA found in seq ? bwt = True naive = True\n",
      "pattern TTTAGCTTAGTTGCAGAGTG found in seq ? bwt = False naive = False\n",
      "pattern TCTTAGCCTACTGTAATAAG found in seq ? bwt = True naive = True\n",
      "pattern TTTGAACTTGATGAAAGGAT found in seq ? bwt = True naive = True\n",
      "pattern CCAGGTAACAAACCAACCAA found in seq ? bwt = True naive = True\n",
      "pattern TGCAGGAATCTTTTGTTGCA found in seq ? bwt = False naive = False\n",
      "pattern AAGACATGTACGTGCATGGA found in seq ? bwt = True naive = True\n"
     ]
    }
   ],
   "source": [
    "# pattern matching :\n",
    "for pat in seq_queries:\n",
    "    print(f\"pattern {pat} found in seq ? bwt = {backward_search(pat,_bwt,_rank,_occ)} naive = {naive_matching(pat, seq)}\")"
   ]
  },
  {
   "cell_type": "code",
   "execution_count": null,
   "metadata": {},
   "outputs": [],
   "source": []
  },
  {
   "cell_type": "markdown",
   "metadata": {},
   "source": [
    "If you need to check the correctness of your FM-index for the sequence `seq`..."
   ]
  },
  {
   "cell_type": "code",
   "execution_count": null,
   "metadata": {
    "collapsed": true
   },
   "outputs": [],
   "source": [
    "from data import sa_seq, bwt_seq, rank_seq, occ_seq"
   ]
  }
 ],
 "metadata": {
  "kernelspec": {
   "display_name": "Python 3",
   "language": "python",
   "name": "python3"
  },
  "language_info": {
   "codemirror_mode": {
    "name": "ipython",
    "version": 3
   },
   "file_extension": ".py",
   "mimetype": "text/x-python",
   "name": "python",
   "nbconvert_exporter": "python",
   "pygments_lexer": "ipython3",
   "version": "3.6.1"
  }
 },
 "nbformat": 4,
 "nbformat_minor": 4
}
