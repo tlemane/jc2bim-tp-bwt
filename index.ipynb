{
 "cells": [
  {
   "cell_type": "markdown",
   "metadata": {},
   "source": [
    "# JC2BIM 2021: TP Burrows-Wheeler Transform\n",
    ">Téo Lemane, Claire Lemaitre"
   ]
  },
  {
   "cell_type": "code",
   "execution_count": null,
   "metadata": {},
   "outputs": [],
   "source": [
    "from typing import List, Dict, Tuple, Callable\n",
    "from utils import (\n",
    "    print_table,    # Pretty-printing. Usage: print_table(text, suffix_array, bwt, rank)\n",
    "    naive_matching, # Naive pattern matching, for comparison. Usage: naive_matching(pattern, text)\n",
    "    timeit          # Function timer. Usage: timeit(func, *args)\n",
    ")"
   ]
  },
  {
   "cell_type": "markdown",
   "metadata": {},
   "source": [
    "## 1. Construction\n",
    "\n",
    "### 1.1 Suffix Array\n",
    "\n",
    "**Q1)** Write a function `suffix_array(seq, term)` which returns the suffix array of `seq`. \n",
    "\n",
    "`term` is the character symbol indicating the end of the sequence, do not forget to add it at the end of your sequence, this is crucial for the BWT. \n",
    "\n",
    "(Hints: [sorted](https://docs.python.org/3/howto/sorting.html#sorting-basics), [key](https://docs.python.org/3/howto/sorting.html#key-functions), [lambda](https://docs.python.org/3.10/reference/expressions.html?#lambda))"
   ]
  },
  {
   "cell_type": "code",
   "execution_count": null,
   "metadata": {},
   "outputs": [],
   "source": [
    "sa_t = List[int] # suffix array is list of integers\n",
    "\n",
    "def suffix_array(seq: str, term: str=\"$\") -> sa_t:\n",
    "    pass"
   ]
  },
  {
   "cell_type": "code",
   "execution_count": null,
   "metadata": {},
   "outputs": [],
   "source": [
    "from data import (\n",
    "    seq_test, # test sequence\n",
    "    sa_test   # expected suffix array\n",
    ")\n",
    "\n",
    "print_table(seq_test+\"$\", sa_test, None, None)"
   ]
  },
  {
   "cell_type": "markdown",
   "metadata": {},
   "source": [
    "### 1.2 BWT\n",
    "\n",
    "Reminder :\n",
    "\n",
    "$BWT_S[i] = \\left\\{ \n",
    "    \\begin{array}{rll}\n",
    "         S[SA[i]-1] & \\mbox{if}\n",
    "         & SA[i]>0 \\\\ '\\$'  & \\mbox{if} & SA[i]=0\n",
    "    \\end{array}\\right.$\n",
    "\n",
    "**Q2)** Write a function `bwt(seq, sa)` which returns the bwt of `seq`."
   ]
  },
  {
   "cell_type": "code",
   "execution_count": null,
   "metadata": {},
   "outputs": [],
   "source": [
    "bwt_t = List[str] # bwt is a list of characters\n",
    "\n",
    "def bwt(seq: str, sa: sa_t) -> bwt_t:\n",
    "    pass"
   ]
  },
  {
   "cell_type": "code",
   "execution_count": null,
   "metadata": {},
   "outputs": [],
   "source": [
    "from data import bwt_test # expected bwt of seq_test\n",
    "print_table(seq_test+\"$\", sa_test, bwt_test, None)"
   ]
  },
  {
   "cell_type": "markdown",
   "metadata": {},
   "source": [
    "### 1.3 FM-index : BWT + 2 tables (rank and occ) and LF mapping function\n",
    "\n",
    "**Q3)** Write a function `rank_occ(bwt, lexi)` which returns the rank array and the occurence table.\n",
    "\n",
    "**Example:**  \n",
    "BWT = $T_0T_1G_0\\$_0G_1C_0C_1A_0A_1A_2A_3A_4C_2A_5C_3$  \n",
    "rank = [0, 1, 0, 0, 1, 0, 1, 0, 1, 2, 3, 4, 2, 5, 3]  \n",
    "occ = {'$': 1, 'A': 6, 'C': 4, 'G': 2, 'T': 2}"
   ]
  },
  {
   "cell_type": "code",
   "execution_count": null,
   "metadata": {},
   "outputs": [],
   "source": [
    "rank_t = List[int]     # rank is a list of integers \n",
    "occ_t = Dict[str, int] # occ is a dictionary\n",
    "\n",
    "def rank_occ(bwt: bwt_t, lexi: str=\"$ACGT\") -> Tuple[rank_t, occ_t]:\n",
    "    pass"
   ]
  },
  {
   "cell_type": "code",
   "execution_count": null,
   "metadata": {},
   "outputs": [],
   "source": [
    "from data import (\n",
    "    rank_test, # expected rank of bwt_test\n",
    "    occ_test   # expected occ of bwt_test\n",
    ")\n",
    "print_table(seq_test+\"$\", sa_test, bwt_test, rank_test)"
   ]
  },
  {
   "cell_type": "markdown",
   "metadata": {},
   "source": [
    "**Q4)** Write a function `LF(c, i, occ, lexi)` which returns the position of $c_i$ in $F$. $c_i$ is the i-th character of type $c$ in $L$ (BWT)."
   ]
  },
  {
   "cell_type": "code",
   "execution_count": null,
   "metadata": {},
   "outputs": [],
   "source": [
    "def LF(c: str, i: int, occ: occ_t, lexi: str=\"$ACGT\") -> int:\n",
    "    pass"
   ]
  },
  {
   "cell_type": "markdown",
   "metadata": {},
   "source": [
    "**Q5)** Using the LF-mapping property, write a function `reverse(bwt, rank, occ)` which returns the original sequence from its BWT."
   ]
  },
  {
   "cell_type": "code",
   "execution_count": null,
   "metadata": {},
   "outputs": [],
   "source": [
    "def reverse(bwt: bwt_t, rank: rank_t, occ: occ_t) -> str:\n",
    "    pass"
   ]
  },
  {
   "cell_type": "markdown",
   "metadata": {},
   "source": [
    "## 2. Pattern matching with the FM-index\n",
    "\n",
    "### 2.1 Useful functions\n",
    "**Q6.1)** Write a function `find_first(c, i, j, bwt)` which returns the position of the first `c` in $BWT[i,j]$.  \n",
    "**Q6.2)** Write a function `find_last(c, j, i, bwt)` which returns the position of the last `c` in $BWT[i,j]$."
   ]
  },
  {
   "cell_type": "code",
   "execution_count": null,
   "metadata": {},
   "outputs": [],
   "source": [
    "def find_first(c: str, i: int, j: int, bwt: bwt_t) -> int:\n",
    "    pass\n",
    "\n",
    "def find_last(c: str, j: int, i: int, bwt: bwt_t) -> int:\n",
    "    pass"
   ]
  },
  {
   "cell_type": "markdown",
   "metadata": {},
   "source": [
    "### 2.2 Pattern matching function\n",
    "**Q7)** Write a function `backward_search(pattern, bwt, rank, occ)` which returns `True` if `pattern` is found, `False` otherwise."
   ]
  },
  {
   "cell_type": "code",
   "execution_count": null,
   "metadata": {},
   "outputs": [],
   "source": [
    "def backward_search(pattern: str, bwt: bwt_t, rank: rank_t, occ: occ_t) -> bool:\n",
    "    pass"
   ]
  },
  {
   "cell_type": "markdown",
   "metadata": {},
   "source": [
    "## 3. Application to real data\n",
    "\n",
    "TODO : describe the data\n",
    "\n",
    "**Q8)** Apply your indexing data structure and the pattern matching function to query the XX kmers in `seq`."
   ]
  },
  {
   "cell_type": "code",
   "execution_count": null,
   "metadata": {},
   "outputs": [],
   "source": [
    "from data import seq, seq_queries"
   ]
  },
  {
   "cell_type": "markdown",
   "metadata": {},
   "source": [
    "**Q9)** Perform the same queries using the function `naive_matching(pattern, text)`, and compare the results and running times."
   ]
  },
  {
   "cell_type": "code",
   "execution_count": null,
   "metadata": {},
   "outputs": [],
   "source": []
  },
  {
   "cell_type": "markdown",
   "metadata": {},
   "source": [
    "If you need to check your FM-index..."
   ]
  },
  {
   "cell_type": "code",
   "execution_count": null,
   "metadata": {},
   "outputs": [],
   "source": [
    "from data import sa_seq, bwt_seq, rank_seq, occ_seq"
   ]
  }
 ],
 "metadata": {
  "kernelspec": {
   "display_name": "Python 3",
   "language": "python",
   "name": "python3"
  },
  "language_info": {
   "codemirror_mode": {
    "name": "ipython",
    "version": 3
   },
   "file_extension": ".py",
   "mimetype": "text/x-python",
   "name": "python",
   "nbconvert_exporter": "python",
   "pygments_lexer": "ipython3",
   "version": "3.9.5"
  }
 },
 "nbformat": 4,
 "nbformat_minor": 4
}
